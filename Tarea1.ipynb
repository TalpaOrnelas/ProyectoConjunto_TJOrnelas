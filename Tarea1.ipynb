{
 "cells": [
  {
   "cell_type": "markdown",
   "id": "e4733389",
   "metadata": {},
   "source": [
    "# **Tarea 1**"
   ]
  },
  {
   "cell_type": "markdown",
   "id": "496f60dd",
   "metadata": {},
   "source": [
    "### Espectativas del curso"
   ]
  },
  {
   "cell_type": "markdown",
   "id": "cc28d6a0",
   "metadata": {},
   "source": [
    "ESTUDIANTE 1\n",
    "\n",
    "Como estudiante de ingeniería civil espero adquirir los conocimientos necesarios de simular el modelo matemático, ya que es mucho mejor que experimentar en la realidad a través de la enseñanza de herramientas de software relevantes, espero adquirir de manera didáctica los conocimientos necesarios para la simulación y modelado, así como la validación de resultados. Estas técnicas se pueden aplicar a situaciones reales desde la ingeniería civil, como análisis estructurales y gestión de recursos hídricos, aprendiendo a optimizar diseños y tomar decisiones informadas. "
   ]
  },
  {
   "cell_type": "markdown",
   "id": "c34432a2",
   "metadata": {},
   "source": [
    "### Markdown"
   ]
  },
  {
   "cell_type": "markdown",
   "id": "61185e5b",
   "metadata": {},
   "source": [
    "#### ESTUDIANTE 1"
   ]
  },
  {
   "cell_type": "markdown",
   "id": "78d484ba",
   "metadata": {},
   "source": [
    "\n",
    "| $i$                       | $y$                           | $f(x)$                          |\n",
    "|:-------------------------:|:-----------------------------:|:-------------------------------:|\n",
    "| 0                         | -1                            | 0.3678                          |\n",
    "| <font color=red>1</font>  | <font color=red>-0.5</font>   | <font color=red>0.7788</font>   |\n",
    "| <font color=blue>2</font> | <font color=blue>0</font>     | <font color=blue>1</font>       |\n",
    "| <font color=red>3</font>  | <font color=red>0.5</font>    | <font color=red>0.7788</font>   |\n",
    "| 4                         | 1                             | 0.3678                          |\n",
    "\n",
    "<center>\n",
    "    Cuadro 1: Tabla de Valores de $f(x)$\n",
    "</center>\n",
    "\n",
    "\n",
    "$$\n",
    "\\int_{-1}^{1} e^-x^2 = \\frac {0,5}{3} [f(-1)+f(1)+4\\left(\\color{red}{f(-0,5) + f(0,5)}\\right)+2\\color{blue}{f(0)}]\n",
    "$$\n",
    "\n",
    "$$\n",
    "=\\frac{0,5}{3}[0,3678 + 0,3678 + 4 \\left(\\color{red}{0,7788 + 0,7788}\\right)+2*\\color{blue}{1}]=1,4943\n",
    "$$\n",
    "\n",
    "<center>\n",
    "A modo de verificación, se calculará por software, el valor del área para n = 100, un valor mucho\n",
    "<center>\n",
    "más elevado al que se utilizó anteriormente. Si lo calculado previamente es correcto, se esperaría que\n",
    "<center>\n",
    "sea próximo al valor presentado a continuación para hacer una buena aproximación.\n",
    "\n",
    "$$\n",
    "\\int_{-1}^{1} e^-x^2 = 1.4943\n",
    "$$"
   ]
  },
  {
   "cell_type": "markdown",
   "id": "79547c22",
   "metadata": {},
   "source": [
    "#### ESTUDIANTE 2"
   ]
  },
  {
   "cell_type": "markdown",
   "id": "141aba82",
   "metadata": {},
   "source": []
  }
 ],
 "metadata": {
  "kernelspec": {
   "display_name": "Python 3 (ipykernel)",
   "language": "python",
   "name": "python3"
  },
  "language_info": {
   "codemirror_mode": {
    "name": "ipython",
    "version": 3
   },
   "file_extension": ".py",
   "mimetype": "text/x-python",
   "name": "python",
   "nbconvert_exporter": "python",
   "pygments_lexer": "ipython3",
   "version": "3.11.4"
  }
 },
 "nbformat": 4,
 "nbformat_minor": 5
}
